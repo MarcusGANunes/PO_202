{
 "cells": [
  {
   "cell_type": "code",
   "execution_count": 1,
   "metadata": {},
   "outputs": [
    {
     "name": "stdout",
     "output_type": "stream",
     "text": [
      "questao_1:\n",
      "MINIMIZE\n",
      "0.26*Milho + 0.32*Soja + 0.0\n",
      "SUBJECT TO\n",
      "_C1: 0.07 Milho + 0.21 Soja >= 0.34\n",
      "\n",
      "_C2: 0.82 Milho + 0.79 Soja >= 2.64\n",
      "\n",
      "VARIABLES\n",
      "Milho Continuous\n",
      "Soja Continuous\n",
      "\n",
      "O mínimo valor da ração ocorrerá quando: \n",
      "\n",
      "Milho: 2.44 Kg\n",
      "Soja: 0.80 Kg\n",
      "O valor minimimo da racao sera de: R$ 0.89\n"
     ]
    }
   ],
   "source": [
    "from pulp import *\n",
    "\n",
    "# Criação do problema\n",
    "\n",
    "prob1 = LpProblem(\"questao_1\", LpMinimize)\n",
    "\n",
    "# Criação das variáveis\n",
    "\n",
    "x = LpVariable(\"Milho\", 0, None, LpContinuous)\n",
    "y = LpVariable(\"Soja\", 0, None, LpContinuous)\n",
    "\n",
    "# Condições do problema (desigualdades)\n",
    "\n",
    "prob1 += 0.07*x + 0.21*y >= 0.34\n",
    "prob1 += 0.82*x + 0.79*y >= 2.64\n",
    "\n",
    "# Objetivo do problema\n",
    "\n",
    "prob1 += 0.26*x + 0.32*y\n",
    "\n",
    "# Escrever o problema\n",
    "\n",
    "print(prob1)\n",
    "\n",
    "# Resolver o problema\n",
    "\n",
    "result = prob1.solve()\n",
    "\n",
    "# Escrevendo a solução\n",
    "\n",
    "if result == LpStatusOptimal:\n",
    "    print('O mínimo valor da ração ocorrerá quando: \\n')\n",
    "    t = 0.26*x.value() + 0.32*y.value()\n",
    "    for var in (x, y):\n",
    "        print('{}: {:2.2f} Kg'.format(var.name, var.value()))\n",
    "    print('O valor minimimo da racao sera de: R$ {:2.2f}'.format(t))\n",
    "else:\n",
    "    print(\"Não foi encontrada uma solução ótima!\")"
   ]
  }
 ],
 "metadata": {
  "kernelspec": {
   "display_name": "Python 3.9.12 ('base')",
   "language": "python",
   "name": "python3"
  },
  "language_info": {
   "codemirror_mode": {
    "name": "ipython",
    "version": 3
   },
   "file_extension": ".py",
   "mimetype": "text/x-python",
   "name": "python",
   "nbconvert_exporter": "python",
   "pygments_lexer": "ipython3",
   "version": "3.9.12"
  },
  "orig_nbformat": 4,
  "vscode": {
   "interpreter": {
    "hash": "7ad2d2b061933ccb46f02c21d4dc257a7efb561c7355abd71f7246fa8dd772fc"
   }
  }
 },
 "nbformat": 4,
 "nbformat_minor": 2
}
