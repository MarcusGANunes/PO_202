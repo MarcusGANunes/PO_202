{
 "cells": [
  {
   "cell_type": "markdown",
   "metadata": {},
   "source": [
    "## Importando as bibliotecas"
   ]
  },
  {
   "cell_type": "code",
   "execution_count": 1,
   "metadata": {},
   "outputs": [],
   "source": [
    "from unittest import result\n",
    "from pulp import *"
   ]
  },
  {
   "cell_type": "markdown",
   "metadata": {},
   "source": [
    "# ITEM A"
   ]
  },
  {
   "cell_type": "code",
   "execution_count": 2,
   "metadata": {},
   "outputs": [
    {
     "name": "stdout",
     "output_type": "stream",
     "text": [
      "q6_A:\n",
      "MAXIMIZE\n",
      "1*x1 + 1*x2 + 0\n",
      "SUBJECT TO\n",
      "_C1: x1 + x2 <= 4\n",
      "\n",
      "_C2: x1 - x2 >= 5\n",
      "\n",
      "VARIABLES\n",
      "x1 Continuous\n",
      "x2 Continuous\n",
      "\n",
      "Não foi encontrada uma solução ótima!\n"
     ]
    }
   ],
   "source": [
    "\n",
    "\n",
    "prob = LpProblem(\"q6_A\",LpMaximize)\n",
    "\n",
    "x1 = LpVariable(\"x1\",0,None,LpContinuous)\n",
    "x2 = LpVariable(\"x2\",0,None,LpContinuous)\n",
    "\n",
    "# Obejtivo do Problema\n",
    "prob += x1+x2\n",
    "\n",
    "# Restrições do Problema\n",
    "\n",
    "prob += x1+x2 <= 4\n",
    "prob += x1-x2 >= 5\n",
    "\n",
    "print(prob)\n",
    "\n",
    "# Resolvendo o problema\n",
    "\n",
    "result = prob.solve()\n",
    "\n",
    "# Printando o Resultado \n",
    "\n",
    "if result == LpStatusOptimal:\n",
    "    print('O máximo valor da ração ocorrerá quando: \\n')\n",
    "    t = 0.26*x.value() + 0.32*y.value()\n",
    "    for var in (x1, x2):\n",
    "        print('{}: {:2.2f} Kg'.format(var.name, var.value()))\n",
    "    print('O valor minimimo da racao sera de: R$ {:2.2f}'.format(t))\n",
    "else:\n",
    "    print(\"Não foi encontrada uma solução ótima!\")"
   ]
  },
  {
   "cell_type": "markdown",
   "metadata": {},
   "source": [
    "# ITEM B"
   ]
  },
  {
   "cell_type": "code",
   "execution_count": 3,
   "metadata": {},
   "outputs": [
    {
     "name": "stdout",
     "output_type": "stream",
     "text": [
      "q6_B:\n",
      "MAXIMIZE\n",
      "4*x1 + 1*x2 + 0\n",
      "SUBJECT TO\n",
      "_C1: 8 x1 + 2 x2 <= 16\n",
      "\n",
      "_C2: 5 x1 + 2 x2 <= 12\n",
      "\n",
      "VARIABLES\n",
      "x1 Continuous\n",
      "x2 Continuous\n",
      "\n",
      "O máximo valor ocorrerá quando: \n",
      "\n",
      "x1: 2.00 \n",
      "x2: 0.00 \n",
      "O valor máximo sera de: 8.00\n"
     ]
    }
   ],
   "source": [
    "\n",
    "\n",
    "prob = LpProblem(\"q6_B\",LpMaximize)\n",
    "\n",
    "x1 = LpVariable(\"x1\",0,None,LpContinuous)\n",
    "x2 = LpVariable(\"x2\",0,None,LpContinuous)\n",
    "\n",
    "# Obejtivo do Problema\n",
    "prob += 4*x1+x2\n",
    "\n",
    "# Restrições do Problema\n",
    "\n",
    "prob += 8*x1+2*x2 <= 16\n",
    "prob += 5*x1+2*x2 <= 12\n",
    "\n",
    "print(prob)\n",
    "\n",
    "# Resolvendo o problema\n",
    "\n",
    "result = prob.solve()\n",
    "\n",
    "# Printando o Resultado \n",
    "\n",
    "if result == LpStatusOptimal:\n",
    "    print('O máximo valor ocorrerá quando: \\n')\n",
    "    t = 4*x1.value() + x2.value()\n",
    "    for var in (x1, x2):\n",
    "        print('{}: {:2.2f} '.format(var.name, var.value()))\n",
    "    print('O valor máximo sera de: {:2.2f}'.format(t))\n",
    "else:\n",
    "    print(\"Não foi encontrada uma solução ótima!\")"
   ]
  },
  {
   "cell_type": "markdown",
   "metadata": {},
   "source": [
    "# ITEM C"
   ]
  },
  {
   "cell_type": "code",
   "execution_count": 4,
   "metadata": {},
   "outputs": [
    {
     "name": "stdout",
     "output_type": "stream",
     "text": [
      "q6_B:\n",
      "MAXIMIZE\n",
      "-1*x1 + 3*x2 + 0\n",
      "SUBJECT TO\n",
      "_C1: x1 - x2 <= 4\n",
      "\n",
      "_C2: x1 + 2 x2 >= 4\n",
      "\n",
      "VARIABLES\n",
      "x1 Continuous\n",
      "x2 Continuous\n",
      "\n",
      "Não foi encontrada uma solução ótima!\n"
     ]
    }
   ],
   "source": [
    "\n",
    "prob = LpProblem(\"q6_B\",LpMaximize)\n",
    "\n",
    "x1 = LpVariable(\"x1\",0,None,LpContinuous)\n",
    "x2 = LpVariable(\"x2\",0,None,LpContinuous)\n",
    "\n",
    "# Obejtivo do Problema\n",
    "prob += -x1+3*x2\n",
    "\n",
    "# Restrições do Problema\n",
    "\n",
    "prob += x1-x2 <= 4\n",
    "prob += x1+2*x2 >= 4\n",
    "\n",
    "print(prob)\n",
    "\n",
    "# Resolvendo o problema\n",
    "\n",
    "result = prob.solve()\n",
    "\n",
    "# Printando o Resultado \n",
    "\n",
    "if result == LpStatusOptimal:\n",
    "    print('O máximo valor ocorrerá quando: \\n')\n",
    "    t = 4*x1.value() + x2.value()\n",
    "    for var in (x1, x2):\n",
    "        print('{}: {:2.2f} '.format(var.name, var.value()))\n",
    "    print('O valor máximo sera de: {:2.2f}'.format(t))\n",
    "else:\n",
    "    print(\"Não foi encontrada uma solução ótima!\")"
   ]
  },
  {
   "cell_type": "markdown",
   "metadata": {},
   "source": [
    "# ITEM D"
   ]
  },
  {
   "cell_type": "code",
   "execution_count": 5,
   "metadata": {},
   "outputs": [
    {
     "name": "stdout",
     "output_type": "stream",
     "text": [
      "q6_D:\n",
      "MAXIMIZE\n",
      "3*x1 + 1*x2 + 0\n",
      "SUBJECT TO\n",
      "_C1: 2 x1 + x2 <= 6\n",
      "\n",
      "_C2: x1 + 3 x2 <= 9\n",
      "\n",
      "VARIABLES\n",
      "x1 Continuous\n",
      "x2 Continuous\n",
      "\n",
      "O máximo valor ocorrerá quando: \n",
      "\n",
      "x1: 3.00 \n",
      "x2: 0.00 \n",
      "O valor máximo sera de: 12.00\n"
     ]
    }
   ],
   "source": [
    "\n",
    "prob = LpProblem(\"q6_D\",LpMaximize)\n",
    "\n",
    "x1 = LpVariable(\"x1\",0,None,LpContinuous)\n",
    "x2 = LpVariable(\"x2\",0,None,LpContinuous)\n",
    "\n",
    "# Obejtivo do Problema\n",
    "prob += 3*x1+x2\n",
    "\n",
    "# Restrições do Problema\n",
    "\n",
    "prob += 2*x1+x2 <= 6\n",
    "prob += x1+3*x2 <= 9\n",
    "\n",
    "print(prob)\n",
    "\n",
    "# Resolvendo o problema\n",
    "\n",
    "result = prob.solve()\n",
    "\n",
    "# Printando o Resultado \n",
    "\n",
    "if result == LpStatusOptimal:\n",
    "    print('O máximo valor ocorrerá quando: \\n')\n",
    "    t = 4*x1.value() + x2.value()\n",
    "    for var in (x1, x2):\n",
    "        print('{}: {:2.2f} '.format(var.name, var.value()))\n",
    "    print('O valor máximo sera de: {:2.2f}'.format(t))\n",
    "else:\n",
    "    print(\"Não foi encontrada uma solução ótima!\")"
   ]
  }
 ],
 "metadata": {
  "kernelspec": {
   "display_name": "Python 3.9.12 ('base')",
   "language": "python",
   "name": "python3"
  },
  "language_info": {
   "codemirror_mode": {
    "name": "ipython",
    "version": 3
   },
   "file_extension": ".py",
   "mimetype": "text/x-python",
   "name": "python",
   "nbconvert_exporter": "python",
   "pygments_lexer": "ipython3",
   "version": "3.9.12"
  },
  "orig_nbformat": 4,
  "vscode": {
   "interpreter": {
    "hash": "7ad2d2b061933ccb46f02c21d4dc257a7efb561c7355abd71f7246fa8dd772fc"
   }
  }
 },
 "nbformat": 4,
 "nbformat_minor": 2
}
