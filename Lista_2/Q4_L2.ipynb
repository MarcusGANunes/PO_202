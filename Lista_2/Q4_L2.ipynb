{
 "cells": [
  {
   "cell_type": "markdown",
   "metadata": {},
   "source": [
    "## Importando as Bibliotecas"
   ]
  },
  {
   "cell_type": "code",
   "execution_count": 3,
   "metadata": {},
   "outputs": [],
   "source": [
    "from unittest import result\n",
    "from pulp import *"
   ]
  },
  {
   "cell_type": "code",
   "execution_count": 4,
   "metadata": {},
   "outputs": [
    {
     "name": "stdout",
     "output_type": "stream",
     "text": [
      "q4:\n",
      "MAXIMIZE\n",
      "2*Torta_de_Morango + 4*Torta_de_chocolate + 0\n",
      "SUBJECT TO\n",
      "_C1: Torta_de_Morango + 4 Torta_de_chocolate <= 30\n",
      "\n",
      "_C2: 40 Torta_de_Morango + 20 Torta_de_chocolate <= 480\n",
      "\n",
      "VARIABLES\n",
      "0 <= Torta_de_Morango Integer\n",
      "0 <= Torta_de_chocolate Integer\n",
      "\n",
      "O máximo valor do lucro ocorrerá quando: \n",
      "\n",
      "Torta_de_chocolate: 5.00 Kg\n",
      "Torta_de_Morango: 9.00 Kg\n",
      "O valor máximo do lucro sera de: R$ 38.00\n"
     ]
    }
   ],
   "source": [
    "\n",
    "\n",
    "prob = LpProblem(\"q4\",LpMaximize)\n",
    "\n",
    "x1 = LpVariable(\"Torta de chocolate\",0,None,LpInteger)\n",
    "x2 = LpVariable(\"Torta de Morango\",0,None,LpInteger)\n",
    "\n",
    "# Obejtivo do Problema\n",
    "prob += 4*x1+2*x2\n",
    "\n",
    "# Restrições do Problema\n",
    "\n",
    "prob += 4*x1+x2 <= 30 # Quantidade de ovos\n",
    "prob += 20*x1+40*x2 <= 8*60 # Tempo disponivel de Forno\n",
    "\n",
    "print(prob)\n",
    "\n",
    "# Resolvendo o problema\n",
    "\n",
    "result = prob.solve()\n",
    "\n",
    "# Printando o Resultado \n",
    "\n",
    "if result == LpStatusOptimal:\n",
    "    print('O máximo valor do lucro ocorrerá quando: \\n')\n",
    "    t = 4*x1.value() + 2*x2.value()\n",
    "    for var in (x1, x2):\n",
    "        print('{}: {:2.2f} Kg'.format(var.name, var.value()))\n",
    "    print('O valor máximo do lucro sera de: R$ {:2.2f}'.format(t))\n",
    "else:\n",
    "    print(\"Não foi encontrada uma solução ótima!\")"
   ]
  }
 ],
 "metadata": {
  "kernelspec": {
   "display_name": "Python 3.9.12 ('base')",
   "language": "python",
   "name": "python3"
  },
  "language_info": {
   "codemirror_mode": {
    "name": "ipython",
    "version": 3
   },
   "file_extension": ".py",
   "mimetype": "text/x-python",
   "name": "python",
   "nbconvert_exporter": "python",
   "pygments_lexer": "ipython3",
   "version": "3.9.12"
  },
  "orig_nbformat": 4,
  "vscode": {
   "interpreter": {
    "hash": "7ad2d2b061933ccb46f02c21d4dc257a7efb561c7355abd71f7246fa8dd772fc"
   }
  }
 },
 "nbformat": 4,
 "nbformat_minor": 2
}
