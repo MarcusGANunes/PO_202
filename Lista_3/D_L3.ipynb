{
 "cells": [
  {
   "cell_type": "code",
   "execution_count": null,
   "metadata": {},
   "outputs": [],
   "source": [
    "from pulp import *\n",
    "\n",
    "# Criação do problema\n",
    "\n",
    "probD = LpProblem(\"questao_D\", LpMinimize)\n",
    "\n",
    "# Criação das variáveis\n",
    "\n",
    "x = LpVariable(\"x1\", 0, None, LpContinuous)\n",
    "y = LpVariable(\"x2\", 0, None, LpContinuous)\n",
    "\n",
    "# Condições do problema (desigualdades)\n",
    "\n",
    "probD += 2*x + 3*y <= 6\n",
    "probD += -x + y <= 1\n",
    "\n",
    "# Objetivo do problema\n",
    "\n",
    "probD += -x + 3*y\n",
    "\n",
    "# Escrever o problema\n",
    "\n",
    "print(probD)\n",
    "\n",
    "# Resolver o problema\n",
    "\n",
    "result = probD.solve()\n",
    "\n",
    "# Escrevendo a solução\n",
    "\n",
    "if result == LpStatusOptimal:\n",
    "    print('O mínimo valor da funcao ocorrera quando: \\n')\n",
    "    t = -x.value() + 3*y.value()\n",
    "    for var in (x, y):\n",
    "        print('{}: {:2.2f}'.format(var.name, var.value()))\n",
    "    print('O valor minimimo da funcao sera de: {:2.2f}'.format(t))\n",
    "else:\n",
    "    print(\"Não foi encontrada uma solução ótima!\")"
   ]
  }
 ],
 "metadata": {
  "kernelspec": {
   "display_name": "Python 3.9.12 ('base')",
   "language": "python",
   "name": "python3"
  },
  "language_info": {
   "name": "python",
   "version": "3.9.12"
  },
  "orig_nbformat": 4,
  "vscode": {
   "interpreter": {
    "hash": "cdaaff918339715f4eb4d860ff5dc4ee06241290d5ec210ba95fb3eb0586d0e7"
   }
  }
 },
 "nbformat": 4,
 "nbformat_minor": 2
}
