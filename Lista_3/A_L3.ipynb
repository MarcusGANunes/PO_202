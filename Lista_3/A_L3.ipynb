{
 "cells": [
  {
   "cell_type": "code",
   "execution_count": null,
   "metadata": {},
   "outputs": [],
   "source": [
    "from pulp import *\n",
    "\n",
    "# Criação do problema\n",
    "\n",
    "probA = LpProblem(\"questao_A\", LpMinimize)\n",
    "\n",
    "# Criação das variáveis\n",
    "\n",
    "x = LpVariable(\"x1\", 0, 1, LpContinuous)\n",
    "y = LpVariable(\"x2\", 0, 8, LpContinuous)\n",
    "\n",
    "# Condições do problema (desigualdades)\n",
    "\n",
    "probA += 3*x + y <= 9\n",
    "probA += 2*x - 2*y <= 3\n",
    "\n",
    "# Objetivo do problema\n",
    "\n",
    "probA += -2*x - y\n",
    "\n",
    "# Escrever o problema\n",
    "\n",
    "print(probA)\n",
    "\n",
    "# Resolver o problema\n",
    "\n",
    "result = probA.solve()\n",
    "\n",
    "# Escrevendo a solução\n",
    "\n",
    "if result == LpStatusOptimal:\n",
    "    print('O mínimo valor da funcao ocorrera quando: \\n')\n",
    "    t = -2*x.value() - y.value()\n",
    "    for var in (x, y):\n",
    "        print('{}: {:2.2f}'.format(var.name, var.value()))\n",
    "    print('O valor minimimo da funcao sera de: {:2.2f}'.format(t))\n",
    "else:\n",
    "    print(\"Não foi encontrada uma solução ótima!\")"
   ]
  }
 ],
 "metadata": {
  "kernelspec": {
   "display_name": "Python 3.8.10 64-bit",
   "language": "python",
   "name": "python3"
  },
  "language_info": {
   "name": "python",
   "version": "3.8.10"
  },
  "orig_nbformat": 4,
  "vscode": {
   "interpreter": {
    "hash": "916dbcbb3f70747c44a77c7bcd40155683ae19c65e1c03b4aa3499c5328201f1"
   }
  }
 },
 "nbformat": 4,
 "nbformat_minor": 2
}
