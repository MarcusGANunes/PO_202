{
 "cells": [
  {
   "cell_type": "code",
   "execution_count": 9,
   "metadata": {},
   "outputs": [
    {
     "name": "stdout",
     "output_type": "stream",
     "text": [
      "questao_1:\n",
      "MINIMIZE\n",
      "0.26*Milho + 0.32*Soja + 0.0\n",
      "SUBJECT TO\n",
      "_C1: 0.07 Milho + 0.21 Soja >= 0.34\n",
      "\n",
      "_C2: 0.82 Milho + 0.79 Soja >= 2.64\n",
      "\n",
      "VARIABLES\n",
      "Milho Continuous\n",
      "Soja Continuous\n",
      "\n",
      "Welcome to the CBC MILP Solver \n",
      "Version: 2.10.5 \n",
      "Build Date: Oct 15 2020 \n",
      "\n",
      "command line - cbc /tmp/580b9466bdaf452eb344349496952f43-pulp.mps timeMode elapsed branch printingOptions all solution /tmp/580b9466bdaf452eb344349496952f43-pulp.sol (default strategy 1)\n",
      "At line 2 NAME          MODEL\n",
      "At line 3 ROWS\n",
      "At line 7 COLUMNS\n",
      "At line 14 RHS\n",
      "At line 17 BOUNDS\n",
      "At line 18 ENDATA\n",
      "Problem MODEL has 2 rows, 2 columns and 4 elements\n",
      "Coin0008I MODEL read with 0 errors\n",
      "Option for timeMode changed from cpu to elapsed\n",
      "Presolve 2 (0) rows, 2 (0) columns and 4 (0) elements\n",
      "0  Obj 0 Primal inf 4.8385596 (2)\n",
      "2  Obj 0.89296835\n",
      "Optimal - objective value 0.89296835\n",
      "Optimal objective 0.892968349 - 2 iterations time 0.002\n",
      "Option for printingOptions changed from normal to all\n",
      "Total time (CPU seconds):       0.00   (Wallclock seconds):       0.00\n",
      "\n",
      "1\n",
      "A produção ótima deve ser Milho: 2.44\n",
      "A produção ótima deve ser Soja: 0.80\n"
     ]
    }
   ],
   "source": [
    "from pulp import *\n",
    "\n",
    "# Criação do problema\n",
    "\n",
    "prob1 = LpProblem(\"questao_1\", LpMinimize)\n",
    "\n",
    "# Criação das variáveis\n",
    "\n",
    "x = LpVariable(\"Milho\", 0, None, LpContinuous)\n",
    "y = LpVariable(\"Soja\", 0, None, LpContinuous)\n",
    "\n",
    "# Condições do problema (desigualdades)\n",
    "\n",
    "prob1 += 0.07*x + 0.21*y >= 0.34\n",
    "prob1 += 0.82*x + 0.79*y >= 2.64\n",
    "\n",
    "# Objetivo do problema\n",
    "\n",
    "prob1 += 0.26*x + 0.32*y\n",
    "\n",
    "# Escrever o problema\n",
    "\n",
    "print(prob1)\n",
    "\n",
    "# Resolver o problema\n",
    "\n",
    "result = prob1.solve()\n",
    "\n",
    "# Verificar se a solução é a solução ótima\n",
    "\n",
    "assert result == LpStatusOptimal\n",
    "\n",
    "# Escrevendo a solução\n",
    "for var in (x, y):\n",
    "    print('A produção ótima deve ser {}: {:2.2f}'.format(var.name, var.value()))"
   ]
  }
 ],
 "metadata": {
  "kernelspec": {
   "display_name": "Python 3.9.12 ('base')",
   "language": "python",
   "name": "python3"
  },
  "language_info": {
   "codemirror_mode": {
    "name": "ipython",
    "version": 3
   },
   "file_extension": ".py",
   "mimetype": "text/x-python",
   "name": "python",
   "nbconvert_exporter": "python",
   "pygments_lexer": "ipython3",
   "version": "3.9.12"
  },
  "orig_nbformat": 4,
  "vscode": {
   "interpreter": {
    "hash": "cdaaff918339715f4eb4d860ff5dc4ee06241290d5ec210ba95fb3eb0586d0e7"
   }
  }
 },
 "nbformat": 4,
 "nbformat_minor": 2
}
