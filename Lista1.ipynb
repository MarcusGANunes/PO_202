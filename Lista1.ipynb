{
 "cells": [
  {
   "cell_type": "code",
   "execution_count": 17,
   "metadata": {},
   "outputs": [
    {
     "name": "stdout",
     "output_type": "stream",
     "text": [
      "questao_1:\n",
      "MINIMIZE\n",
      "0.26*Milho + 0.32*Soja + 0.0\n",
      "SUBJECT TO\n",
      "_C1: 0.07 Milho + 0.21 Soja >= 0.34\n",
      "\n",
      "_C2: 0.82 Milho + 0.79 Soja >= 2.64\n",
      "\n",
      "VARIABLES\n",
      "Milho Continuous\n",
      "Soja Continuous\n",
      "\n",
      "O mínimo valor da ração ocorrerá quando: \n",
      "\n",
      "Milho: 2.44 Kg\n",
      "Soja: 0.80 Kg\n",
      "O valor minimimo da racao sera de: R$0.89\n"
     ]
    }
   ],
   "source": [
    "from pulp import *\n",
    "\n",
    "# Criação do problema\n",
    "\n",
    "prob1 = LpProblem(\"questao_1\", LpMinimize)\n",
    "\n",
    "# Criação das variáveis\n",
    "\n",
    "x = LpVariable(\"Milho\", 0, None, LpContinuous)\n",
    "y = LpVariable(\"Soja\", 0, None, LpContinuous)\n",
    "\n",
    "# Condições do problema (desigualdades)\n",
    "\n",
    "prob1 += 0.07*x + 0.21*y >= 0.34\n",
    "prob1 += 0.82*x + 0.79*y >= 2.64\n",
    "\n",
    "# Objetivo do problema\n",
    "\n",
    "prob1 += 0.26*x + 0.32*y\n",
    "\n",
    "# Escrever o problema\n",
    "\n",
    "print(prob1)\n",
    "\n",
    "# Resolver o problema\n",
    "\n",
    "result = prob1.solve()\n",
    "\n",
    "# Escrevendo a solução\n",
    "\n",
    "if result == LpStatusOptimal:\n",
    "    print('O mínimo valor da ração ocorrerá quando: \\n')\n",
    "    t = 0.26*x.value() + 0.32*y.value()\n",
    "    for var in (x, y):\n",
    "        print('{}: {:2.2f} Kg'.format(var.name, var.value()))\n",
    "    print('O valor minimimo da racao sera de: R$ {:2.2f}'.format(t))\n",
    "else:\n",
    "    print(\"Não foi encontrada uma solução ótima!\")\n"
   ]
  },
  {
   "cell_type": "code",
   "execution_count": 18,
   "metadata": {},
   "outputs": [
    {
     "name": "stdout",
     "output_type": "stream",
     "text": [
      "questao_2:\n",
      "MINIMIZE\n",
      "18*Medida_1 + 13*Medida_2 + 20*Medida_3 + 0\n",
      "SUBJECT TO\n",
      "_C1: 21 Medida_1 + 45 Medida_2 + 30 Medida_3 >= 60\n",
      "\n",
      "_C2: 77 Medida_1 + 49 Medida_2 + 105 Medida_3 >= 150\n",
      "\n",
      "_C3: 90 Medida_1 + 62 Medida_2 + 49 Medida_3 >= 125\n",
      "\n",
      "VARIABLES\n",
      "Medida_1 <= 1 Continuous\n",
      "Medida_2 <= 1 Continuous\n",
      "Medida_3 <= 1 Continuous\n",
      "\n",
      "O custo mínimo necessário para atingir a meta ocorrerá quando as medidas forem implementadas da seguinte forma: \n",
      "Medida_1: 0.603\n",
      "Medida_2: 0.572\n",
      "Medida_3: 0.719\n",
      "O valor minimimo para as implemetacoes sera de: $32.680 milhoes\n"
     ]
    }
   ],
   "source": [
    "from pulp import *\n",
    "\n",
    "# Criação do problema\n",
    "\n",
    "prob2 = LpProblem(\"questao_2\", LpMinimize)\n",
    "\n",
    "# Criação das variáveis\n",
    "\n",
    "x = LpVariable(\"Medida_1\", 0, 1, LpContinuous)\n",
    "y = LpVariable(\"Medida_2\", 0, 1, LpContinuous)\n",
    "z = LpVariable(\"Medida_3\", 0, 1, LpContinuous)\n",
    "\n",
    "# Condições do problema (desigualdades)\n",
    "\n",
    "prob2 += 21*x + 45*y + 30*z >= 60\n",
    "prob2 += 77*x + 49*y + 105*z >= 150\n",
    "prob2+= 90*x + 62*y + 49*z >= 125\n",
    "\n",
    "# Objetivo do problema\n",
    "\n",
    "prob2 += 18*x + 13*y + 20*z\n",
    "\n",
    "# Escrever o problema\n",
    "\n",
    "print(prob2)\n",
    "\n",
    "# Resolver o problema\n",
    "\n",
    "result = prob2.solve()\n",
    "\n",
    "# Escrevendo a solução\n",
    "\n",
    "if result == LpStatusOptimal:\n",
    "    print('O custo mínimo necessário para atingir a meta ocorrerá quando as medidas forem implementadas da seguinte forma: ')\n",
    "    t = 18*x.value() + 13*y.value() + 20*z.value()\n",
    "    for var in (x, y, z):\n",
    "        print('{}: {:.3f}'.format(var.name, var.value()))\n",
    "    print('O valor minimimo para as implemetacoes sera de: $ {:.3f} milhoes'.format(t))\n",
    "else:\n",
    "    print(\"Não foi encontrada uma solução ótima!\")\n",
    "\n"
   ]
  }
 ],
 "metadata": {
  "kernelspec": {
   "display_name": "Python 3.9.12 ('base')",
   "language": "python",
   "name": "python3"
  },
  "language_info": {
   "codemirror_mode": {
    "name": "ipython",
    "version": 3
   },
   "file_extension": ".py",
   "mimetype": "text/x-python",
   "name": "python",
   "nbconvert_exporter": "python",
   "pygments_lexer": "ipython3",
   "version": "3.9.12"
  },
  "orig_nbformat": 4,
  "vscode": {
   "interpreter": {
    "hash": "7ad2d2b061933ccb46f02c21d4dc257a7efb561c7355abd71f7246fa8dd772fc"
   }
  }
 },
 "nbformat": 4,
 "nbformat_minor": 2
}
