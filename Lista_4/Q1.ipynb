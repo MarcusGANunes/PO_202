{
 "cells": [
  {
   "cell_type": "code",
   "execution_count": 1,
   "metadata": {},
   "outputs": [],
   "source": [
    "from pulp import *"
   ]
  },
  {
   "cell_type": "code",
   "execution_count": 2,
   "metadata": {},
   "outputs": [],
   "source": [
    "prob = LpProblem(\"Problema_01\", LpMinimize)"
   ]
  },
  {
   "cell_type": "code",
   "execution_count": 3,
   "metadata": {},
   "outputs": [],
   "source": [
    "x1 = LpVariable(\"Existe o Local 1\",0,1, LpInteger)\n",
    "x2 = LpVariable(\"Existe o Local 2\",0,1, LpInteger)\n",
    "x3 = LpVariable(\"Existe o Local 3\",0,1, LpInteger)\n",
    "x4 = LpVariable(\"Existe o Local 4\",0,1, LpInteger)\n",
    "x5 = LpVariable(\"Existe o Local 5\",0,1, LpInteger)"
   ]
  },
  {
   "cell_type": "code",
   "execution_count": 4,
   "metadata": {},
   "outputs": [],
   "source": [
    "prob += x1+x2+x3+x4+x5"
   ]
  },
  {
   "cell_type": "markdown",
   "metadata": {},
   "source": [
    "### Regiões\n",
    "\n",
    "Sul -> x1 e x2\n",
    "\n",
    "Centro -> x1, x2, x3 e x4\n",
    "\n",
    "Sudeste -> x2 e x5\n",
    "\n",
    "Oeste -> x3, x4 e x5\n",
    "\n",
    "Norte -> x4 e x5"
   ]
  },
  {
   "cell_type": "code",
   "execution_count": 5,
   "metadata": {},
   "outputs": [],
   "source": [
    "prob += x1 + x2 >= 1\n",
    "prob += x1 + x2 +x3 +x4 >= 1\n",
    "prob += x2 + x5 >= 1\n",
    "prob += x3 + x4 + x5 >= 1\n",
    "prob += x4 + x5 >= 1"
   ]
  },
  {
   "cell_type": "code",
   "execution_count": 6,
   "metadata": {},
   "outputs": [
    {
     "data": {
      "text/plain": [
       "1"
      ]
     },
     "execution_count": 6,
     "metadata": {},
     "output_type": "execute_result"
    }
   ],
   "source": [
    "prob.solve()"
   ]
  },
  {
   "cell_type": "code",
   "execution_count": 7,
   "metadata": {},
   "outputs": [
    {
     "name": "stdout",
     "output_type": "stream",
     "text": [
      "Status: Optimal\n"
     ]
    }
   ],
   "source": [
    "print(\"Status:\", LpStatus[prob.status])"
   ]
  },
  {
   "cell_type": "code",
   "execution_count": 8,
   "metadata": {},
   "outputs": [
    {
     "name": "stdout",
     "output_type": "stream",
     "text": [
      "Existe_o_Local_1 = Não\n",
      "Existe_o_Local_2 = Sim\n",
      "Existe_o_Local_3 = Não\n",
      "Existe_o_Local_4 = Sim\n",
      "Existe_o_Local_5 = Não\n"
     ]
    }
   ],
   "source": [
    "for v in prob.variables():\n",
    "    if(v.varValue):\n",
    "        print(v.name, \"= Sim\")\n",
    "    else:\n",
    "        print(v.name, \"= Não\")"
   ]
  }
 ],
 "metadata": {
  "kernelspec": {
   "display_name": "Python 3.9.12 ('base')",
   "language": "python",
   "name": "python3"
  },
  "language_info": {
   "codemirror_mode": {
    "name": "ipython",
    "version": 3
   },
   "file_extension": ".py",
   "mimetype": "text/x-python",
   "name": "python",
   "nbconvert_exporter": "python",
   "pygments_lexer": "ipython3",
   "version": "3.9.12"
  },
  "orig_nbformat": 4,
  "vscode": {
   "interpreter": {
    "hash": "7ad2d2b061933ccb46f02c21d4dc257a7efb561c7355abd71f7246fa8dd772fc"
   }
  }
 },
 "nbformat": 4,
 "nbformat_minor": 2
}
