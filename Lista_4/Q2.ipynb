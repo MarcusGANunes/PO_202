{
 "cells": [
  {
   "cell_type": "code",
   "execution_count": 12,
   "metadata": {},
   "outputs": [],
   "source": [
    "import pandas as pd\n",
    "import numpy as np\n",
    "from unittest import result\n",
    "from pulp import *"
   ]
  },
  {
   "cell_type": "code",
   "execution_count": 13,
   "metadata": {},
   "outputs": [],
   "source": [
    "df_nc = pd.read_csv('nc.txt')\n",
    "df_dpe = pd.read_csv('dpe.txt')\n",
    "df_dist = pd.read_csv('dist.txt',sep=';')\n"
   ]
  },
  {
   "cell_type": "code",
   "execution_count": 14,
   "metadata": {},
   "outputs": [],
   "source": [
    "# vetor demanda\n",
    "demanda = np.array(df_nc['pessoas'])\n",
    "\n",
    "# distância do no a empresa\n",
    "dpe = np.array(df_dpe['dist'])\n",
    "a = [0]\n",
    "b =np.concatenate((a,dpe))\n",
    "# matriz das distâncias\n",
    "df_dist.fillna(0,inplace=True)\n",
    "df_dist.insert(0,'0',dpe,True)\n",
    "df_dist = df_dist.T\n",
    "df_dist.insert(0,'0',b,True)\n",
    "dist = np.array(df_dist)\n",
    "# custo por Km\n",
    "\n",
    "m =40\n",
    "n =31\n",
    "m_k= np.concatenate([np.repeat(3.2,10),np.repeat(2.9,30)])\n",
    "Q_k= np.concatenate([np.repeat(48,10),np.repeat(16,30)])\n",
    "F_k= np.concatenate([np.repeat(15000/44,10),np.repeat(4000/44,30)])\n",
    "\n",
    "c = np.zeros((m,n,n))\n",
    "for k in np.arange(m):\n",
    "    if k < 10:\n",
    "        c[k] = m_k[k]*dist\n",
    "    else:\n",
    "        c[k] = m_k[k]*dist\n",
    "c = np.array(c)"
   ]
  },
  {
   "cell_type": "code",
   "execution_count": 15,
   "metadata": {},
   "outputs": [],
   "source": [
    "prob = LpProblem(\"Problema_trafego\",LpMinimize)\n",
    "\n",
    "x = LpVariable.dicts(\"matriz dos x\",[(j,i,k) for j in np.arange(n) for i in np.arange(n) for k in np.arange(m)],cat='Binary')\n",
    "\n",
    "# Objetivo do Problema\n",
    "\n",
    "for k in range(m):\n",
    "    for j in range(n):\n",
    "        prob += lpSum(F_k[k]*x[(0,j,k)])\n",
    "        for i in range(n):\n",
    "            prob += lpSum( c[k][j][i] * x[(i,j,k)] ) \n",
    "\n",
    "    # Restricoes\n",
    "\n",
    "    prob += lpSum(x[(i,j,k)]  for i in np.arange(1,n) for j in np.arange(n) ) == 1\n",
    "\n",
    "    prob += lpSum(x[(i,j,k)]  for i in np.arange(n) for j in np.arange(1,n) ) == 1\n",
    "\n",
    "    prob += lpSum(x[(0,j,k)]  for j in np.arange(n) ) == 1\n",
    "\n",
    "    prob += lpSum(x[(i,0,k)]  for i in np.arange(n) ) == 1\n",
    "\n",
    "    prob +=lpSum(x[(i,j,k)]*demanda[j] for i in range(n) for j in range(n)) <= Q_k[k]\n",
    "\n",
    "    prob += lpSum(x[(i,j,k)]+x[(j,i,k)] for i in np.arange(1,n) for j in np.arange(1,n) ) <= 1\n",
    "\n",
    "result = prob.solve()"
   ]
  },
  {
   "cell_type": "code",
   "execution_count": 16,
   "metadata": {},
   "outputs": [
    {
     "name": "stdout",
     "output_type": "stream",
     "text": [
      "O menor valor diário será: 14641.60\n"
     ]
    }
   ],
   "source": [
    "if result == LpStatusOptimal:\n",
    "    t = 0\n",
    "    for k in range(m):\n",
    "        for j in range(n):\n",
    "            t += F_k[k]*x[(0,j,k)].value()\n",
    "            for i in range(n):\n",
    "                t += (c[k][j][i] * x[(i,j,k)].value() ) \n",
    "    print('O menor valor diário será: {:2.2f}'.format(t))"
   ]
  }
 ],
 "metadata": {
  "kernelspec": {
   "display_name": "Python 3.9.7 ('base')",
   "language": "python",
   "name": "python3"
  },
  "language_info": {
   "codemirror_mode": {
    "name": "ipython",
    "version": 3
   },
   "file_extension": ".py",
   "mimetype": "text/x-python",
   "name": "python",
   "nbconvert_exporter": "python",
   "pygments_lexer": "ipython3",
   "version": "3.9.7"
  },
  "orig_nbformat": 4,
  "vscode": {
   "interpreter": {
    "hash": "277d713a2869ad522e0f58de96fa3cb2620734b34dd3b3afd7f1966d69d2580f"
   }
  }
 },
 "nbformat": 4,
 "nbformat_minor": 2
}
